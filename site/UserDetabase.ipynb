{
 "cells": [
  {
   "cell_type": "markdown",
   "metadata": {},
   "source": [
    "# <hr>User Database : Store User detail Only"
   ]
  },
  {
   "cell_type": "markdown",
   "metadata": {},
   "source": [
    "### Cell that define all the required function/Methods "
   ]
  },
  {
   "cell_type": "code",
   "execution_count": 80,
   "metadata": {},
   "outputs": [],
   "source": [
    "import random as r\n",
    "#function to input name of the user\n",
    "def input_name():\n",
    "    f_name=input(\"\\t\\t\\t\\tYour Full name : \")\n",
    "    for i in f_name:\n",
    "        j=(i>='A' and i<='Z') or i==' ' or (i>='a' and i <='z')\n",
    "        if not j:\n",
    "            print(\"\\t\\t\\t\\tPlease enter correct detail !!!\")\n",
    "            f_name=input_name()\n",
    "            break\n",
    "    return f_name\n",
    "\n",
    "#fuction to cheack wheather user enter correctly\n",
    "def check_y_or_n(str0):\n",
    "    x=input(str0)\n",
    "    if (x not in yes) and (x not in no):\n",
    "        print(\"\\t\\t\\t\\tPlease answer correctly !!!\")\n",
    "        x=check_y_or_n(str0)\n",
    "    return x\n",
    "\n",
    "#function to input unique phone number\n",
    "def input_ph_no():\n",
    "    ph_no=int(input(\"\\t\\t\\t\\tYour Mobile Number :\"))\n",
    "    if ph_no//1000000000<10 and ph_no//1000000000>6:\n",
    "        if ph_no in database:\n",
    "            print('\\n\\n\\t\\t\\t\\tPhone Number alresdy exist.\\n\\t\\t\\t\\t\\tPlease try again !!!\\n\\n')\n",
    "            ph_no=input_ph_no()\n",
    "    else:\n",
    "        print(\"\\n\\n\\t\\t\\t\\tPlease enter correct Detail!!\")\n",
    "        ph_no=input_ph_no()\n",
    "    return ph_no\n",
    "\n",
    "#function to input unique user id\n",
    "def input_user_id():\n",
    "    user_id=input(\"\\t\\t\\t\\tCreate Your Username :\")\n",
    "    for i in database:\n",
    "        if user_id in database[i]['Username']:\n",
    "            print('\\n\\n\\t\\t\\t\\tUsername alresdy exist.\\n\\t\\t\\t\\t\\tPlease try again !!!\\n\\n')\n",
    "            user_id=input_user_id()\n",
    "        for j in user_id:\n",
    "            k=(j >='a' and j<='z') or (j>='0' and j<='9') or (j in ['_','.','@'])\n",
    "            if not k:\n",
    "                print(\"\\t\\t\\t\\t\\tUsername Incorrect!!\\n\\t\\t\\t\\tPlease try again....\")\n",
    "                user_id=input_user_id()\n",
    "                break\n",
    "    return user_id\n",
    "\n",
    "#fuction to input user's email id\n",
    "def input_email_id():\n",
    "    email_id=input(\"\\t\\t\\t\\tYour E-mail ID :\")\n",
    "    if (('.' in email_id) and ('@' in email_id)):\n",
    "        dom_chk=get_domain(email_id)\n",
    "        if dom_chk in domain:\n",
    "            for i in database:\n",
    "                if email_id in database[i]['E-mail']:\n",
    "                    print('\\n\\n\\t\\t\\t\\tE-mail alresdy exist.\\n\\t\\t\\t\\t\\tPlease try again !!!\\n\\n')\n",
    "                    email_id=input_email_id()\n",
    "                    break\n",
    "        else:\n",
    "            print(\"\\n\\n\\t\\t\\tPlease Enter correct detail !!\")\n",
    "            email_id=input_email_id()\n",
    "    else:\n",
    "        print(\"\\n\\n\\t\\t\\tPlease Enter correct detail !!\")\n",
    "        email_id=input_email_id()\n",
    "    return email_id\n",
    "\n",
    "#function to get the domain of email id\n",
    "def get_domain(email_id):\n",
    "    email_rev=list(email_id)\n",
    "    email_rev.reverse()\n",
    "    dom=[]\n",
    "    for i in email_rev:\n",
    "        if i is '.':\n",
    "            break\n",
    "        else:\n",
    "            dom=dom+[i]\n",
    "    dom.reverse()\n",
    "    y=''.join(dom)\n",
    "    return y\n",
    "\n",
    "#function to genrate unique user id\n",
    "def create_user_id():\n",
    "    ph_id=r.randrange(0,ph_no,15)\n",
    "    for i in database:\n",
    "        if Name_id+str(ph_id) in database[i]['Username']:\n",
    "            user_id=create_user_id()\n",
    "    return str(Name_id+str(ph_id))\n",
    "\n",
    "#function to erase data or declare database\n",
    "def is_erase_database():\n",
    "    is_previous_database=check_y_or_n(\"Do you want you continue with previous data(yes/no) : \")\n",
    "    if is_previous_database in yes:\n",
    "        databas=database\n",
    "    else:\n",
    "        databas={}\n",
    "    return databas"
   ]
  },
  {
   "cell_type": "markdown",
   "metadata": {},
   "source": [
    "## some Important Declaration"
   ]
  },
  {
   "cell_type": "code",
   "execution_count": 81,
   "metadata": {
    "scrolled": true
   },
   "outputs": [],
   "source": [
    "#global declaration\n",
    "yes=['yes','Yes','yEs','yeS','YEs','YeS','yES','YES']\n",
    "no=['no','No','nO','NO']\n",
    "domain=['com','in','gov','io','ml','ga','gl',\n",
    "        'net','cl','uk','am','nu','cr','fr',\n",
    "        'pt','dk','be','ck','hu','cc','it','cz',\n",
    "        'se','hm','za','lv','de','bg','org',\n",
    "        'ar','au','ru','ca','us','ch','dk','br',\n",
    "        'az','ro','sk','es','nl','vg','za','biz',\n",
    "        'gt','si','ee','edu','st','kh','jp','fm',\n",
    "        'gr','pe','et','mk','es','li','at','py',\n",
    "        'to','tk','sg','il','mx','kz','jp','pl',\n",
    "        'fi','lu','ie','md','cn','ve','gr','lb',\n",
    "        'yu','id','kr','nz','hk','is','ph']"
   ]
  },
  {
   "cell_type": "markdown",
   "metadata": {},
   "source": [
    "# Main Platform where all the methods used to create user database"
   ]
  },
  {
   "cell_type": "markdown",
   "metadata": {},
   "source": [
    "### Cell where control flow implemented"
   ]
  },
  {
   "cell_type": "code",
   "execution_count": 82,
   "metadata": {},
   "outputs": [
    {
     "name": "stdout",
     "output_type": "stream",
     "text": [
      "Are you Running this program first time in your system(yes/no):Aman Kumar Dass\n",
      "\t\t\t\tPlease answer correctly !!!\n",
      "Are you Running this program first time in your system(yes/no):no\n",
      "Do you want you continue with previous data(yes/no) : yes\n",
      "\t\t\t\tYour Full name : Aman kumar dass\n",
      "\t\t\t\tYour Mobile Number :9876543201\n",
      "\t\t\t\tYour E-mail ID :home.mail2aman@gmail.com\n",
      "\t\t\t   Let us genrate username for you (yes/no) :yes\n",
      "\n",
      "\t<-------------------------------------------------------------------------------------->\n",
      "\n",
      "\n",
      "\t\t\t   Your details are as follow :\n",
      "\t\t\t\t Username : aman993827715\n",
      "\t\t\t\t Name : AMAN KUMAR DASS\n",
      "\t\t\t\t Phone No. : 9876543201\n",
      "\t\t\t\t E-mail : home.mail2aman@gmail.com\n"
     ]
    }
   ],
   "source": [
    "#confirm user requirement\n",
    "first_try=check_y_or_n(\"Are you Running this program first time in your system(yes/no):\")\n",
    "if first_try in yes:\n",
    "    database={}\n",
    "else:\n",
    "    database=is_erase_database()\n",
    "#Take details of User\n",
    "f_name=input_name()\n",
    "f_name=f_name.upper()\n",
    "Name_list=f_name.split()\n",
    "ph_no=input_ph_no()\n",
    "email=input_email_id()\n",
    "y_or_n=check_y_or_n(\"\\t\\t\\t   Let us genrate username for you (yes/no) :\")\n",
    "#creating Username\n",
    "if y_or_n in yes:\n",
    "    Name_id=r.choice(Name_list)\n",
    "    Name_id=Name_id.lower()\n",
    "    user_id=create_user_id()\n",
    "    \n",
    "else:\n",
    "    user_id=input_user_id()\n",
    "detail={'Username':user_id,'Name':f_name,'Phone No.':ph_no,'E-mail':email}\n",
    "print(\"\\n\\t<-------------------------------------------------------------------------------------->\")\n",
    "print(\"\\n\\n\\t\\t\\t   Your details are as follow :\")\n",
    "for i in detail:\n",
    "    print(\"\\t\\t\\t\\t\",i,\":\",detail[i])\n",
    "database.update({ph_no : detail})"
   ]
  },
  {
   "cell_type": "markdown",
   "metadata": {},
   "source": [
    "### One can access the information by just enter unique mobile no."
   ]
  },
  {
   "cell_type": "code",
   "execution_count": 63,
   "metadata": {},
   "outputs": [
    {
     "name": "stdout",
     "output_type": "stream",
     "text": [
      "\n",
      "\t\t\tEnter your Mobile/Phone No. : 9818341260\n",
      "User Details are :\n",
      "\t\t\n",
      "{'Username': 'kumar4760547585', 'Name': 'AMAN KUMAR DASS', 'Phone No.': 9818341260, 'E-mail': 'mail2aman50@gmail.com'}\n"
     ]
    }
   ],
   "source": [
    "query=int(input('\\n\\t\\t\\tEnter your Mobile/Phone No. : '))\n",
    "if query in database:\n",
    "    print('User Details are :\\n\\t\\t')\n",
    "    print(database[query])\n",
    "else:\n",
    "    print(\"\\n\\t\\t\\t\\tUser Not found !!!\")"
   ]
  },
  {
   "cell_type": "markdown",
   "metadata": {},
   "source": [
    "### Method to view details of all the user in database."
   ]
  },
  {
   "cell_type": "code",
   "execution_count": 64,
   "metadata": {},
   "outputs": [
    {
     "name": "stdout",
     "output_type": "stream",
     "text": [
      "{'Username': 'kumar4760547585', 'Name': 'AMAN KUMAR DASS', 'Phone No.': 9818341260, 'E-mail': 'mail2aman50@gmail.com'}\n",
      "{'Username': 'kumar109164270', 'Name': 'AMAN KUMAR DASS', 'Phone No.': 9818341644, 'E-mail': 'mail2aman@gmail.com'}\n",
      "{'Username': 'aman.dass.co19@gmail.com', 'Name': 'AMAN KUMAR DASS', 'Phone No.': 9267994122, 'E-mail': 'aman.dass.co19@gmail.com'}\n",
      "{'Username': 'amandass', 'Name': 'AMAN KUMAR DASS', 'Phone No.': 9876543210, 'E-mail': 'pro.mail2aman@gmail.com'}\n",
      "{'Username': 'kumar5800873230', 'Name': 'AMAN KUMAR DASS', 'Phone No.': 9818341250, 'E-mail': 'aman.dass.co19@nsut.ac.in'}\n",
      "{'Username': 'aman4298400510', 'Name': 'AMAN KUMAR DASS', 'Phone No.': 9818341255, 'E-mail': 'pro.mail2aman50@gmail.com'}\n"
     ]
    }
   ],
   "source": [
    "for i in database.values():\n",
    "    print (i)"
   ]
  },
  {
   "cell_type": "markdown",
   "metadata": {},
   "source": [
    "## To access the only one data of user at a time"
   ]
  },
  {
   "cell_type": "code",
   "execution_count": 90,
   "metadata": {},
   "outputs": [
    {
     "name": "stdout",
     "output_type": "stream",
     "text": [
      "\n",
      "\t\t\tEnter the Mobile No. :9818341260\n",
      "\t\t\tThe Below are the only access to user details :\n",
      "\t\t\t\t1.Username\n",
      "\t\t\t\t2.Name\n",
      "\t\t\t\t3.Email\n",
      "\t\t\tEnter what ever you want : Name\n",
      "\n",
      "\t\t\t-->  Name  :  AMAN KUMAR DASS\n"
     ]
    }
   ],
   "source": [
    "x=int(input('\\n\\t\\t\\tEnter the Mobile No. :'))\n",
    "if x in database:\n",
    "    print('\\t\\t\\tThe Below are the only access to user details :')\n",
    "    print('\\t\\t\\t\\t1.Username\\n\\t\\t\\t\\t2.Name\\n\\t\\t\\t\\t3.Email')\n",
    "    y=input(\"\\t\\t\\tEnter what ever you want : \")\n",
    "    if y in database[x]:\n",
    "        print(\"\\n\\t\\t\\t--> \",y,' : ',database[x][y])\n",
    "else:\n",
    "    print(\"\\t\\t\\t\\tUser Not Found !!!\")"
   ]
  },
  {
   "cell_type": "code",
   "execution_count": 92,
   "metadata": {},
   "outputs": [
    {
     "data": {
      "text/plain": [
       "dict_values(['kumar4760547585', 'AMAN KUMAR DASS', 9818341260, 'mail2aman50@gmail.com'])"
      ]
     },
     "execution_count": 92,
     "metadata": {},
     "output_type": "execute_result"
    }
   ],
   "source": [
    "database[9818341260].values()"
   ]
  },
  {
   "cell_type": "code",
   "execution_count": null,
   "metadata": {},
   "outputs": [],
   "source": []
  },
  {
   "cell_type": "code",
   "execution_count": null,
   "metadata": {},
   "outputs": [],
   "source": []
  },
  {
   "cell_type": "code",
   "execution_count": null,
   "metadata": {},
   "outputs": [],
   "source": []
  },
  {
   "cell_type": "code",
   "execution_count": null,
   "metadata": {},
   "outputs": [],
   "source": []
  },
  {
   "cell_type": "code",
   "execution_count": null,
   "metadata": {},
   "outputs": [],
   "source": []
  },
  {
   "cell_type": "code",
   "execution_count": null,
   "metadata": {},
   "outputs": [],
   "source": []
  },
  {
   "cell_type": "code",
   "execution_count": null,
   "metadata": {},
   "outputs": [],
   "source": []
  },
  {
   "cell_type": "code",
   "execution_count": null,
   "metadata": {},
   "outputs": [],
   "source": []
  },
  {
   "cell_type": "code",
   "execution_count": null,
   "metadata": {},
   "outputs": [],
   "source": []
  },
  {
   "cell_type": "code",
   "execution_count": null,
   "metadata": {},
   "outputs": [],
   "source": []
  },
  {
   "cell_type": "code",
   "execution_count": null,
   "metadata": {},
   "outputs": [],
   "source": []
  },
  {
   "cell_type": "code",
   "execution_count": null,
   "metadata": {},
   "outputs": [],
   "source": []
  },
  {
   "cell_type": "code",
   "execution_count": null,
   "metadata": {},
   "outputs": [],
   "source": []
  },
  {
   "cell_type": "code",
   "execution_count": null,
   "metadata": {},
   "outputs": [],
   "source": []
  },
  {
   "cell_type": "code",
   "execution_count": null,
   "metadata": {},
   "outputs": [],
   "source": []
  }
 ],
 "metadata": {
  "kernelspec": {
   "display_name": "Python 3",
   "language": "python",
   "name": "python3"
  },
  "language_info": {
   "codemirror_mode": {
    "name": "ipython",
    "version": 3
   },
   "file_extension": ".py",
   "mimetype": "text/x-python",
   "name": "python",
   "nbconvert_exporter": "python",
   "pygments_lexer": "ipython3",
   "version": "3.7.4"
  }
 },
 "nbformat": 4,
 "nbformat_minor": 2
}
